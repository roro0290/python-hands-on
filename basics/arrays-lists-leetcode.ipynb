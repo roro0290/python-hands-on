{
 "cells": [
  {
   "cell_type": "markdown",
   "id": "947016cf-9f37-4730-bbe5-b3ecd39a9c0f",
   "metadata": {},
   "source": [
    "## 1920. Build Array from Permutation\n",
    "\n",
    "Given a zero-based permutation nums (0-indexed), build an array ans of the same length where `ans[i] = nums[nums[i]]` for each 0 <= i < nums.length and return it.\n",
    "\n",
    "A zero-based permutation nums is an array of distinct integers from 0 to $ nums.length - 1 (inclusive).$\n",
    "\n",
    "- Input: $[0,2,1,5,3,4]$\n",
    "- Output: $[0,1,2,4,5,3]$\n",
    "- Explanation: in `output[1] = input[input[1]] = input[2] = 1`"
   ]
  },
  {
   "cell_type": "markdown",
   "id": "c1db1e8e-e90d-4c5a-be4d-1e8f1e8e5b3e",
   "metadata": {},
   "source": [
    "### Approach 1\n",
    "1. get the size of the nums list using `len(nums)`\n",
    "2. initialise a list with size = size of the nums list\n",
    "3. use a for loop & update each value in the list to the `nums[nums[i]]`\n",
    "\n",
    "#### Notes:\n",
    "- `range(len(nums)` - if len(nums) = 6, list will be initialised as `[0,1,2,3,4,5]`\n",
    "- To loop over indexes use `for i in range(len(nums))`\n",
    "- using `res = []` will create an empty list. Trying to set the value `res[i]` will not work and result in index out of boundsnds"
   ]
  },
  {
   "cell_type": "code",
   "execution_count": 8,
   "id": "1a174431-6d80-4a5f-872e-d2e76ec7b5a4",
   "metadata": {},
   "outputs": [],
   "source": [
    "def buildArray1(nums):\n",
    "    # res = []\n",
    "    res = list(nums)\n",
    "    for i in range(len(nums)):\n",
    "        res[i] = nums[nums[i]]\n",
    "    return res"
   ]
  },
  {
   "cell_type": "markdown",
   "id": "63ee8715-8f80-441b-a360-d24f9c76a051",
   "metadata": {},
   "source": [
    "### Approach 2\n",
    "1. initialise an empty list\n",
    "2. loop over the indexes and append value to the end"
   ]
  },
  {
   "cell_type": "code",
   "execution_count": 6,
   "id": "48ac69a2-ff36-4c95-9dd0-eb7016a5e59e",
   "metadata": {},
   "outputs": [],
   "source": [
    "def buildArray2(nums):\n",
    "    res = []\n",
    "    for i in range(len(nums)):\n",
    "        res.append(nums[nums[i]])\n",
    "    return res"
   ]
  },
  {
   "cell_type": "markdown",
   "id": "0d261f8e-b28b-46bf-9cab-32af098a7da3",
   "metadata": {},
   "source": [
    "### Test"
   ]
  },
  {
   "cell_type": "code",
   "execution_count": 12,
   "id": "5f3a74c5-1601-44e4-abaa-4c26bf1b07ca",
   "metadata": {},
   "outputs": [],
   "source": [
    "nums = list([0,2,1,5,3,4])\n",
    "ans = list([0,1,2,4,5,3])\n",
    "assert buildArray1(nums) == ans\n",
    "assert buildArray2(nums) == ans\n",
    "\n",
    "nums = list([5,0,1,2,3,4])\n",
    "ans = list([4,5,0,1,2,3])\n",
    "assert buildArray1(nums) == ans\n",
    "assert buildArray2(nums) == ans"
   ]
  },
  {
   "cell_type": "markdown",
   "id": "35a53ee3-02cb-4f5e-8135-0a87ef07d49e",
   "metadata": {},
   "source": [
    "## 1929. Concatenation of Arrays\n",
    "Given an integer array nums of length n, you want to create an array ans of length $2n$ where `ans[i] == nums[i] and ans[i + n] == nums[i]` for `0 <= i < n (0-indexed)`. Specifically, ans is the concatenation of two nums arrays. Return the array and.\n",
    "\n",
    "- Example 1\n",
    "- Input: $[1,2,1]$\n",
    "- Output: $[1,2,1,1,2,1]$"
   ]
  },
  {
   "cell_type": "markdown",
   "id": "71923665-49e0-46ae-80d7-3f6e8d26ca81",
   "metadata": {},
   "source": [
    "#### Approach 1\n",
    "1. Initialise a list with size 2 * nums length\n",
    "2. loop over the index and store the value in both i & i + length\n",
    "\n",
    "Alternatively, you can do a double loop where the first time, first n numbers are filled and then the next n numbers"
   ]
  },
  {
   "cell_type": "code",
   "execution_count": 24,
   "id": "04f460f1-8855-4528-8e8a-3130006fed74",
   "metadata": {},
   "outputs": [],
   "source": [
    "def getConcatenation1(nums):\n",
    "    length = len(nums)\n",
    "    ans = list(range(length*2))\n",
    "    for i in range(length):\n",
    "        ans[i] = nums[i]\n",
    "        ans[i+length] = ans[i]\n",
    "    return ans\n",
    "\n",
    "def getConcatenation2(nums):\n",
    "    ans = []\n",
    "    for i in range(1,3):\n",
    "        for i in nums:\n",
    "            ans.append(i)\n",
    "    return ans"
   ]
  },
  {
   "cell_type": "markdown",
   "id": "44d0808f-5bb8-411b-83c3-4ac9b08f4def",
   "metadata": {},
   "source": [
    "#### Approach 2\n",
    "Since it is a simple concatenation, combine the two arrays using arithmetic operators or Python functions.<br>"
   ]
  },
  {
   "cell_type": "code",
   "execution_count": 43,
   "id": "29d6bbf0-f06b-47bb-a65e-4ccb5a36c2cb",
   "metadata": {},
   "outputs": [],
   "source": [
    "def getConcatenation3(nums):\n",
    "    return nums * 2\n",
    "\n",
    "def getConcatenation4(nums):\n",
    "    return nums + nums\n",
    "\n",
    "def getConcatenation5(nums):\n",
    "    nums.extend(nums)\n",
    "    return nums"
   ]
  },
  {
   "cell_type": "markdown",
   "id": "155a5ea7-61d4-42a5-98a2-2288ed26cb59",
   "metadata": {},
   "source": [
    "### Test"
   ]
  },
  {
   "cell_type": "code",
   "execution_count": 44,
   "id": "1126e4e0-6169-4bbb-94c5-e100c6a81802",
   "metadata": {},
   "outputs": [],
   "source": [
    "nums = [1,2,1]\n",
    "ans = [1,2,1,1,2,1]\n",
    "assert getConcatenation1(nums) == ans\n",
    "assert getConcatenation2(nums) == ans\n",
    "assert getConcatenation3(nums) == ans\n",
    "assert getConcatenation4(nums) == ans\n",
    "nums = [1,2,1]\n",
    "ans = [1,2,1,1,2,1]\n",
    "assert getConcatenation5(nums) == ans"
   ]
  },
  {
   "cell_type": "markdown",
   "id": "e7a88608-741a-4a4f-bf22-03c10cdb66a1",
   "metadata": {},
   "source": [
    "## 1512. Number of Good Pairs\n",
    "\n",
    "Given an array of integers nums, return the number of good pairs. A pair (i, j) is called good if `nums[i] == nums[j]` and `i < j`\n",
    "\n",
    "- Example 1\n",
    "- Input: nums = $[1,2,3,1,1,3]$\n",
    "- Output: 4\n",
    "- Explanation: There are 4 good pairs (0,3), (0,4), (3,4), (2,5) 0-indexed.\n",
    "\n",
    "Constraints:\n",
    "* `1 <= nums.length <= 100`\n",
    "* `1 <= nums[i] <= 100`"
   ]
  },
  {
   "cell_type": "markdown",
   "id": "a46e524c-577a-4607-ab55-0a4e872fe0dc",
   "metadata": {},
   "source": [
    "### Approach 1\n",
    "Use a double loop where we check if elements are matching. We sort the list and check whether the element is greater than the target to reduce the number of checks (no need to check further). Time complexity = O(N^2)"
   ]
  },
  {
   "cell_type": "code",
   "execution_count": 48,
   "id": "b8226551-bc56-42e3-a7f0-5873e229a63e",
   "metadata": {},
   "outputs": [],
   "source": [
    "def numIdenticalPairs1(nums):\n",
    "    count = 0\n",
    "    length = len(nums)\n",
    "    if(length==1):\n",
    "        return 0\n",
    "    nums.sort()\n",
    "    for i in range(0,length-1):\n",
    "        for j in range(i+1,length):\n",
    "            if(nums[i]==nums[j]):\n",
    "                count += 1\n",
    "            if(nums[j]>nums[i]):\n",
    "                break;    \n",
    "    return count"
   ]
  },
  {
   "cell_type": "code",
   "execution_count": 54,
   "id": "07a8b379-b2bf-4581-a614-e4cc35f5e16e",
   "metadata": {},
   "outputs": [],
   "source": [
    "# Better runtime code with a while loop & iterate the index differently without use of range()\n",
    "def numIdenticalPairs2(nums):\n",
    "    output=0\n",
    "    i=0\n",
    "    for n in range(len(nums)):\n",
    "        j=n+1\n",
    "        while j<len(nums):\n",
    "            if nums[j]==nums[n]:\n",
    "                output+=1\n",
    "            j+=1\n",
    "    return output"
   ]
  },
  {
   "cell_type": "markdown",
   "id": "af8b4219-915f-4c78-b810-5b0a9f532171",
   "metadata": {},
   "source": [
    "### Test"
   ]
  },
  {
   "cell_type": "code",
   "execution_count": 55,
   "id": "4d90f2ac-e7bf-4fb8-b98d-f196f8adb764",
   "metadata": {},
   "outputs": [],
   "source": [
    "assert numIdenticalPairs1([1,2,3,1,1,3]) == 4\n",
    "assert numIdenticalPairs1([1,1,1,1]) == 6\n",
    "assert numIdenticalPairs1([1,2,3]) == 0\n",
    "assert numIdenticalPairs2([1,2,3,1,1,3]) == 4\n",
    "assert numIdenticalPairs2([1,1,1,1]) == 6\n",
    "assert numIdenticalPairs2([1,2,3]) == 0"
   ]
  },
  {
   "cell_type": "code",
   "execution_count": null,
   "id": "eb39f919-745f-42b0-9f56-ae2c43a377f4",
   "metadata": {},
   "outputs": [],
   "source": []
  }
 ],
 "metadata": {
  "kernelspec": {
   "display_name": "Python 3 (ipykernel)",
   "language": "python",
   "name": "python3"
  },
  "language_info": {
   "codemirror_mode": {
    "name": "ipython",
    "version": 3
   },
   "file_extension": ".py",
   "mimetype": "text/x-python",
   "name": "python",
   "nbconvert_exporter": "python",
   "pygments_lexer": "ipython3",
   "version": "3.11.7"
  }
 },
 "nbformat": 4,
 "nbformat_minor": 5
}
